{
 "cells": [
  {
   "cell_type": "markdown",
   "metadata": {
    "slideshow": {
     "slide_type": "slide"
    }
   },
   "source": [
    "# ML Base introduce\n",
    "- Perceptron\n",
    "- linear regression & logistic regression\n",
    "- CNN\n",
    "- RNN\n",
    "- DNN\n",
    "\n",
    "## by Cloud.yu 2018-2-9"
   ]
  },
  {
   "cell_type": "markdown",
   "metadata": {
    "slideshow": {
     "slide_type": "slide"
    }
   },
   "source": [
    "# Perceptron  (感知机)\n",
    "\n",
    ">感知机模型: $f(x)=sign(wx+b)$, 其中$w$叫做权重(weight)， $b$叫做偏置(bias)\n",
    "\n",
    ">线性几何平面: $wx+b=0$\n",
    "\n",
    "- PLA\n",
    "- Pocket\n"
   ]
  },
  {
   "cell_type": "markdown",
   "metadata": {
    "slideshow": {
     "slide_type": "subslide"
    }
   },
   "source": [
    "![](test.gif)"
   ]
  },
  {
   "cell_type": "markdown",
   "metadata": {
    "slideshow": {
     "slide_type": "subslide"
    }
   },
   "source": [
    "----\n",
    "# PLA  (Percetron Learning Algorithm)\n",
    "----\n",
    "- **Input**: traing data ($T = \\{(x_{0}, y_{0}), (x_{1}, y_{1}), ..., (x_{i}, y_{i})\\}$) \n",
    "- **Output**: $(w, b)$\n",
    "    - init $(w, b)\\rightarrow(0,0)$ , $i\\rightarrow 0$\n",
    "    - while $i != len(T)$ do\n",
    "        - if $y_{i}(wx_{i}+b) <= 0$ then\n",
    "            - $(w, b) \\rightarrow (w, b) + y_{i}x_{i}$\n",
    "            - $i\\rightarrow 0$\n",
    "        - else\n",
    "            - $i=i+1$\n",
    "        - end if\n",
    "    - end while\n",
    "----\n"
   ]
  },
  {
   "cell_type": "markdown",
   "metadata": {
    "slideshow": {
     "slide_type": "subslide"
    }
   },
   "source": [
    "\n",
    "![](pla.png)"
   ]
  },
  {
   "cell_type": "code",
   "execution_count": 4,
   "metadata": {
    "scrolled": true,
    "slideshow": {
     "slide_type": "subslide"
    }
   },
   "outputs": [
    {
     "name": "stdout",
     "output_type": "stream",
     "text": [
      "2\n"
     ]
    },
    {
     "data": {
      "image/png": "[encoded data removed]",
      "text/plain": [
       "<matplotlib.figure.Figure at 0x21527fc1898>"
      ]
     },
     "metadata": {},
     "output_type": "display_data"
    }
   ],
   "source": [
    "import numpy as np\n",
    "import matplotlib\n",
    "import matplotlib.pyplot as plt \n",
    "\n",
    "LEN = 40\n",
    "x = np.random.randint(-5,5, (LEN,2))\n",
    "line = np.random.randint(-5,5, (2, 1))\n",
    "#  2y - 3x\n",
    "label = np.sign(np.dot(x, line))\n",
    "label[label == 0] = 1\n",
    "fig = plt.figure(1)\n",
    "idx_0 = np.where(label[:, 0] == -1)\n",
    "p0 = plt.scatter(x[idx_0,1], x[idx_0,0], marker = '+', color = 'c', label='-1', s = 50)\n",
    "idx_1 = np.where(label[:, 0] == 1)\n",
    "p1 = plt.scatter(x[idx_1,1], x[idx_1,0], marker = 'x', color = 'm', label='1', s = 50)\n",
    "plt.title('PLA')\n",
    "plt.xlabel('x')\n",
    "plt.ylabel('y')\n",
    "plt.xlim((-6,6))\n",
    "plt.ylim((-6,6))\n",
    "plt.legend()\n",
    "plt.grid(True)\n",
    "plt.show()"
   ]
  },
  {
   "cell_type": "code",
   "execution_count": 3,
   "metadata": {
    "scrolled": false,
    "slideshow": {
     "slide_type": "subslide"
    }
   },
   "outputs": [
    {
     "name": "stdout",
     "output_type": "stream",
     "text": [
      "[[-6.]\n",
      " [ 1.]]\n"
     ]
    }
   ],
   "source": [
    "cnt = 0\n",
    "pla = np.zeros((2,1))\n",
    "_update = 0\n",
    "\n",
    "while cnt<LEN:\n",
    "    _update = np.sign(np.dot(x[cnt,:], pla)) * label[cnt, 0]\n",
    "    if _update <= 0:\n",
    "        _x = x[cnt, :]\n",
    "        _x.shape = (1,2)\n",
    "        _x = np.transpose(_x)\n",
    "        pla = pla + _x*label[cnt, 0]\n",
    "        cnt = 0\n",
    "    else:\n",
    "        cnt = cnt+1\n",
    "        continue\n",
    "print(pla)\n",
    "\n",
    "\n",
    "\n",
    "    "
   ]
  },
  {
   "cell_type": "code",
   "execution_count": 4,
   "metadata": {
    "slideshow": {
     "slide_type": "subslide"
    }
   },
   "outputs": [
    {
     "data": {
      "image/png": "[encoded data removed]",
      "text/plain": [
       "<matplotlib.figure.Figure at 0x185dbfe7ef0>"
      ]
     },
     "metadata": {},
     "output_type": "display_data"
    }
   ],
   "source": [
    "fig = plt.figure(1)\n",
    "idx_0 = np.where(label[:, 0] == -1)\n",
    "p0 = plt.scatter(x[idx_0,1], x[idx_0,0], marker = '+', color = 'c', label='-1', s = 50)\n",
    "idx_1 = np.where(label[:, 0] == 1)\n",
    "p1 = plt.scatter(x[idx_1,1], x[idx_1,0], marker = 'x', color = 'm', label='1', s = 50)\n",
    "plt.title('PLA')\n",
    "plt.xlabel('x')\n",
    "plt.ylabel('y')\n",
    "plt.xlim((-6,6))\n",
    "plt.ylim((-6,6))\n",
    "plt.legend()\n",
    "plt.grid(True)\n",
    "\n",
    "k = -pla[1,:] / pla[0,:]\n",
    "line_x = np.linspace(-5,5,50) \n",
    "line_y = k*line_x\n",
    "plt.plot(line_x,line_y)\n",
    "plt.show()"
   ]
  },
  {
   "cell_type": "markdown",
   "metadata": {
    "slideshow": {
     "slide_type": "subslide"
    }
   },
   "source": [
    "----\n",
    "# POCKET Algorithm\n",
    "----\n",
    "- **Input**: traing data ($T = \\{(x_{0}, y_{0}), (x_{1}, y_{1}), ..., (x_{i}, y_{i})\\}$)\n",
    "- **Output**: $(w, b)$\n",
    "    - init $(w_{best}, b_{best}) \\rightarrow random$\n",
    "    - $loss_{min} \\leftarrow sum(sign(w_{best}x + b_{best}) != y)$\n",
    "    - for $i= 0\\rightarrow1000$ do\n",
    "        - init $(w, b)\\rightarrow random$ and $j\\rightarrow 0$\n",
    "        - Save error label data to $T_{error} = \\{(x_{0}, y_{0}), (x_{1}, y_{1}), ..., (x_{err}, y_{err})\\}$\n",
    "        - while $j != len(T_{error})$ do\n",
    "            - $(\\bar{w}, \\bar{b}) \\rightarrow (w, b) + y_{j}x_{j}$\n",
    "            - $loss \\leftarrow sum(sign(\\bar{w}x + \\bar{b}) != y)$\n",
    "            - if $loss < loss_{min}$ then\n",
    "                - break\n",
    "            - end if\n",
    "            - $j=j+1$\n",
    "        - end while\n",
    "        - if $j != len(y_{err})$\n",
    "           - $(w_{best}, b_{best}) \\leftarrow (\\bar{w}, \\bar{b})$\n",
    "           - $loss_{min} \\leftarrow loss$\n",
    "        - end if\n",
    "        - j = 0\n",
    "    - end for\n",
    "----"
   ]
  },
  {
   "cell_type": "code",
   "execution_count": 6,
   "metadata": {
    "scrolled": false,
    "slideshow": {
     "slide_type": "subslide"
    }
   },
   "outputs": [
    {
     "name": "stdout",
     "output_type": "stream",
     "text": [
      "[[-6]\n",
      " [ 1]]\n"
     ]
    }
   ],
   "source": [
    "def cal_loss(_pocket, _x, _label):\n",
    "    _cal = np.sign(np.dot(_x, _pocket))\n",
    "    _cal.shape = (40,1)\n",
    "    idx = np.where(_cal[:, 0] != _label[:, 0])\n",
    "    loss = np.sum(_cal[:, 0] != _label[:, 0])\n",
    "    return list(idx[0]), loss\n",
    "\n",
    "# random init best pocket and min loss value\n",
    "pocket_best = np.random.randint(-5,5, (2,1))\n",
    "_, min_loss = cal_loss(pocket_best, x, label)\n",
    "\n",
    "\n",
    "for i in range(15):\n",
    "    # random pocket and cur loss for each period\n",
    "    pocket = np.random.randint(-5,5, (2,1))\n",
    "    _pocket = pocket\n",
    "    idx, cur_loss = cal_loss(pocket, x, label)\n",
    "    while cnt < len(idx):\n",
    "        _x = x[idx[cnt], :]\n",
    "        _x.shape = (2,1)\n",
    "        _pocket = pocket + _x * label[idx[cnt], 0]\n",
    "        _, cur_loss = cal_loss(_pocket, x, label)\n",
    "        # compare cur loss with min loss\n",
    "        if cur_loss < min_loss:\n",
    "            break\n",
    "        else:\n",
    "            cnt = cnt + 1\n",
    "    if cnt != len(idx):\n",
    "        pocket_best = _pocket\n",
    "        _, min_loss = cal_loss(pocket_best, x, label)\n",
    "    cnt = 0\n",
    "\n",
    "pocket = pocket_best\n",
    "print(pocket)"
   ]
  },
  {
   "cell_type": "code",
   "execution_count": 7,
   "metadata": {
    "slideshow": {
     "slide_type": "subslide"
    }
   },
   "outputs": [
    {
     "data": {
      "image/png": "[encoded data removed]",
      "text/plain": [
       "<matplotlib.figure.Figure at 0x185dc0aa320>"
      ]
     },
     "metadata": {},
     "output_type": "display_data"
    }
   ],
   "source": [
    "fig = plt.figure(1)\n",
    "idx_0 = np.where(label[:, 0] == -1)\n",
    "p0 = plt.scatter(x[idx_0,1], x[idx_0,0], marker = '+', color = 'c', label='-1', s = 50)\n",
    "idx_1 = np.where(label[:, 0] == 1)\n",
    "p1 = plt.scatter(x[idx_1,1], x[idx_1,0], marker = 'x', color = 'm', label='1', s = 50)\n",
    "plt.title('POCKET')\n",
    "plt.xlabel('x')\n",
    "plt.ylabel('y')\n",
    "plt.xlim((-6,6))\n",
    "plt.ylim((-6,6))\n",
    "plt.legend()\n",
    "plt.grid(True)\n",
    "\n",
    "k = -pocket[1,:] / pocket[0,:]\n",
    "line_x = np.linspace(-5,5,50) \n",
    "line_y = k*line_x\n",
    "plt.plot(line_x,line_y)\n",
    "plt.show()"
   ]
  },
  {
   "cell_type": "code",
   "execution_count": null,
   "metadata": {
    "collapsed": true
   },
   "outputs": [],
   "source": []
  }
 ],
 "metadata": {
  "celltoolbar": "Slideshow",
  "kernelspec": {
   "display_name": "Python 3",
   "language": "python",
   "name": "python3"
  },
  "language_info": {
   "codemirror_mode": {
    "name": "ipython",
    "version": 3
   },
   "file_extension": ".py",
   "mimetype": "text/x-python",
   "name": "python",
   "nbconvert_exporter": "python",
   "pygments_lexer": "ipython3",
   "version": "3.6.3"
  }
 },
 "nbformat": 4,
 "nbformat_minor": 2
}
