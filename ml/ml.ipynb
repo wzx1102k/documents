{
 "cells": [
  {
   "cell_type": "markdown",
   "metadata": {
    "slideshow": {
     "slide_type": "slide"
    }
   },
   "source": [
    "# <center>Machine Learning Base introduce</center>\n",
    "**********\n",
    "<br />\n",
    "<br />\n",
    "\n",
    "    来自 1998 年 Tom Mitchell 的定义， \"对于某类任务T和性能度量P，如果一个计算机程序在T上以P衡量的性能随着经验E而自我完善，那么我们称这个计算机程序在从经验E学习。\"\n",
    "<br />\n",
    "<br />\n",
    "![](ml__model.jpg)\n",
    "\n",
    "## <h1 style=\"text-align:right\">by Cloud.yu 2018-3-10 <h1>"
   ]
  },
  {
   "cell_type": "markdown",
   "metadata": {
    "slideshow": {
     "slide_type": "subslide"
    }
   },
   "source": [
    "![](mlmindmap.png)"
   ]
  },
  {
   "cell_type": "markdown",
   "metadata": {
    "slideshow": {
     "slide_type": "subslide"
    }
   },
   "source": [
    "![](ml_people.jpg)"
   ]
  },
  {
   "cell_type": "markdown",
   "metadata": {
    "slideshow": {
     "slide_type": "subslide"
    }
   },
   "source": [
    "![](ml_relation.jpg)"
   ]
  },
  {
   "cell_type": "markdown",
   "metadata": {
    "slideshow": {
     "slide_type": "slide"
    }
   },
   "source": [
    "#  <center>Perceptron  (感知机) </center>\n",
    "****\n",
    "\n",
    "**任务** : 求一条线$wx+b=0$ 对不同类别的点进行二分类\n",
    "****\n",
    "**类型** : 监督学习\n",
    "\n",
    "**模型** : 感知机 $f(x)=sign(wx+b)$, 其中$w$叫做权重(weight)， $b$叫做偏置(bias)\n",
    "\n",
    "**评价方法** : $\\min \\{ \\sum {{\\rm{(y(wx + b)  <  0)}}} \\}$\n",
    "\n",
    "**优化方法** : PLA/Pocket\n",
    "\n",
    "\n",
    "\n"
   ]
  },
  {
   "cell_type": "markdown",
   "metadata": {
    "slideshow": {
     "slide_type": "subslide"
    }
   },
   "source": [
    "----\n",
    "# <center> PLA  (Percetron Learning Algorithm)</center>\n",
    "----\n",
    "- **Input**: traing data ($T = \\{(x_{0}, y_{0}), (x_{1}, y_{1}), ..., (x_{i}, y_{i})\\}$) \n",
    "- **Output**: $(w, b)$\n",
    "    - init $(w, b)\\rightarrow(0,0)$ , $i\\rightarrow 0$\n",
    "    - while $i != len(T)$ do\n",
    "        - if $y_{i}(wx_{i}+b) <= 0$ then\n",
    "            - $(w, b) \\rightarrow (w, b) + y_{i}x_{i}$\n",
    "            - $i\\rightarrow 0$\n",
    "        - else\n",
    "            - $i=i+1$\n",
    "        - end if\n",
    "    - end while\n",
    "----\n"
   ]
  },
  {
   "cell_type": "markdown",
   "metadata": {
    "slideshow": {
     "slide_type": "subslide"
    }
   },
   "source": [
    "\n",
    "![](pla.png)"
   ]
  },
  {
   "cell_type": "code",
   "execution_count": 3,
   "metadata": {
    "scrolled": true,
    "slideshow": {
     "slide_type": "subslide"
    }
   },
   "outputs": [
    {
     "data": {
      "image/png": "[encoded data removed]",
      "text/plain": [
       "<matplotlib.figure.Figure at 0x218fcf4c6a0>"
      ]
     },
     "metadata": {},
     "output_type": "display_data"
    }
   ],
   "source": [
    "import numpy as np\n",
    "import matplotlib\n",
    "import matplotlib.pyplot as plt \n",
    "\n",
    "LEN = 40\n",
    "x = np.random.randint(-5,5, (LEN,2))\n",
    "line = np.random.randint(-5,5, (2, 1))\n",
    "#  2y - 3x\n",
    "label = np.sign(np.dot(x, line))\n",
    "label[label == 0] = 1\n",
    "fig = plt.figure(1)\n",
    "idx_0 = np.where(label[:, 0] == -1)\n",
    "p0 = plt.scatter(x[idx_0,1], x[idx_0,0], marker = '+', color = 'c', label='-1', s = 50)\n",
    "idx_1 = np.where(label[:, 0] == 1)\n",
    "p1 = plt.scatter(x[idx_1,1], x[idx_1,0], marker = 'x', color = 'm', label='1', s = 50)\n",
    "plt.title('PLA')\n",
    "plt.xlabel('x')\n",
    "plt.ylabel('y')\n",
    "plt.xlim((-6,6))\n",
    "plt.ylim((-6,6))\n",
    "plt.legend()\n",
    "plt.grid(True)\n",
    "plt.show()"
   ]
  },
  {
   "cell_type": "code",
   "execution_count": 4,
   "metadata": {
    "scrolled": false,
    "slideshow": {
     "slide_type": "subslide"
    }
   },
   "outputs": [
    {
     "name": "stdout",
     "output_type": "stream",
     "text": [
      "[[-3.]\n",
      " [-7.]]\n"
     ]
    }
   ],
   "source": [
    "cnt = 0\n",
    "pla = np.zeros((2,1))\n",
    "_update = 0\n",
    "\n",
    "while cnt<LEN:\n",
    "    _update = np.sign(np.dot(x[cnt,:], pla)) * label[cnt, 0]\n",
    "    if _update <= 0:\n",
    "        _x = x[cnt, :]\n",
    "        _x.shape = (1,2)\n",
    "        _x = np.transpose(_x)\n",
    "        pla = pla + _x*label[cnt, 0]\n",
    "        cnt = 0\n",
    "    else:\n",
    "        cnt = cnt+1\n",
    "        continue\n",
    "print(pla)\n",
    "\n",
    "\n",
    "\n",
    "    "
   ]
  },
  {
   "cell_type": "code",
   "execution_count": 5,
   "metadata": {
    "slideshow": {
     "slide_type": "subslide"
    }
   },
   "outputs": [
    {
     "data": {
      "image/png": "[encoded data removed]",
      "text/plain": [
       "<matplotlib.figure.Figure at 0x218fff6eba8>"
      ]
     },
     "metadata": {},
     "output_type": "display_data"
    }
   ],
   "source": [
    "fig = plt.figure(1)\n",
    "idx_0 = np.where(label[:, 0] == -1)\n",
    "p0 = plt.scatter(x[idx_0,1], x[idx_0,0], marker = '+', color = 'c', label='-1', s = 50)\n",
    "idx_1 = np.where(label[:, 0] == 1)\n",
    "p1 = plt.scatter(x[idx_1,1], x[idx_1,0], marker = 'x', color = 'm', label='1', s = 50)\n",
    "plt.title('PLA')\n",
    "plt.xlabel('x')\n",
    "plt.ylabel('y')\n",
    "plt.xlim((-6,6))\n",
    "plt.ylim((-6,6))\n",
    "plt.legend()\n",
    "plt.grid(True)\n",
    "\n",
    "k = -pla[1,:] / pla[0,:]\n",
    "line_x = np.linspace(-5,5,50) \n",
    "line_y = k*line_x\n",
    "plt.plot(line_x,line_y)\n",
    "plt.show()"
   ]
  },
  {
   "cell_type": "markdown",
   "metadata": {
    "slideshow": {
     "slide_type": "subslide"
    }
   },
   "source": [
    "----\n",
    "# <center>POCKET Algorithm</center>\n",
    "----\n",
    "- **Input**: traing data ($T = \\{(x_{0}, y_{0}), (x_{1}, y_{1}), ..., (x_{i}, y_{i})\\}$)\n",
    "- **Output**: $(w, b)$\n",
    "    - init $(w_{best}, b_{best}) \\rightarrow random$\n",
    "    - $loss_{min} \\leftarrow sum(sign(w_{best}x + b_{best}) != y)$\n",
    "    - for $i= 0\\rightarrow1000$ do\n",
    "        - init $(w, b)\\rightarrow random$ and $j\\rightarrow 0$\n",
    "        - Save error label data to $T_{error} = \\{(x_{0}, y_{0}), (x_{1}, y_{1}), ..., (x_{err}, y_{err})\\}$\n",
    "        - while $j != len(T_{error})$ do\n",
    "            - $(\\bar{w}, \\bar{b}) \\rightarrow (w, b) + y_{j}x_{j}$\n",
    "            - $loss \\leftarrow sum(sign(\\bar{w}x + \\bar{b}) != y)$\n",
    "            - if $loss < loss_{min}$ then\n",
    "                - break\n",
    "            - end if\n",
    "            - $j=j+1$\n",
    "        - end while\n",
    "        - if $j != len(y_{err})$\n",
    "           - $(w_{best}, b_{best}) \\leftarrow (\\bar{w}, \\bar{b})$\n",
    "           - $loss_{min} \\leftarrow loss$\n",
    "        - end if\n",
    "        - j = 0\n",
    "    - end for\n",
    "----"
   ]
  },
  {
   "cell_type": "code",
   "execution_count": 6,
   "metadata": {
    "scrolled": false,
    "slideshow": {
     "slide_type": "subslide"
    }
   },
   "outputs": [
    {
     "name": "stdout",
     "output_type": "stream",
     "text": [
      "[[-2]\n",
      " [-4]]\n"
     ]
    }
   ],
   "source": [
    "def cal_loss(_pocket, _x, _label):\n",
    "    _cal = np.sign(np.dot(_x, _pocket))\n",
    "    _cal.shape = (40,1)\n",
    "    idx = np.where(_cal[:, 0] != _label[:, 0])\n",
    "    loss = np.sum(_cal[:, 0] != _label[:, 0])\n",
    "    return list(idx[0]), loss\n",
    "\n",
    "# random init best pocket and min loss value\n",
    "pocket_best = np.random.randint(-5,5, (2,1))\n",
    "_, min_loss = cal_loss(pocket_best, x, label)\n",
    "\n",
    "\n",
    "for i in range(15):\n",
    "    # random pocket and cur loss for each period\n",
    "    pocket = np.random.randint(-5,5, (2,1))\n",
    "    _pocket = pocket\n",
    "    idx, cur_loss = cal_loss(pocket, x, label)\n",
    "    while cnt < len(idx):\n",
    "        _x = x[idx[cnt], :]\n",
    "        _x.shape = (2,1)\n",
    "        _pocket = pocket + _x * label[idx[cnt], 0]\n",
    "        _, cur_loss = cal_loss(_pocket, x, label)\n",
    "        # compare cur loss with min loss\n",
    "        if cur_loss < min_loss:\n",
    "            break\n",
    "        else:\n",
    "            cnt = cnt + 1\n",
    "    if cnt != len(idx):\n",
    "        pocket_best = _pocket\n",
    "        _, min_loss = cal_loss(pocket_best, x, label)\n",
    "    cnt = 0\n",
    "\n",
    "pocket = pocket_best\n",
    "print(pocket)"
   ]
  },
  {
   "cell_type": "code",
   "execution_count": 7,
   "metadata": {
    "slideshow": {
     "slide_type": "subslide"
    }
   },
   "outputs": [
    {
     "data": {
      "image/png": "[encoded data removed]",
      "text/plain": [
       "<matplotlib.figure.Figure at 0x218fffc3e10>"
      ]
     },
     "metadata": {},
     "output_type": "display_data"
    }
   ],
   "source": [
    "fig = plt.figure(1)\n",
    "idx_0 = np.where(label[:, 0] == -1)\n",
    "p0 = plt.scatter(x[idx_0,1], x[idx_0,0], marker = '+', color = 'c', label='-1', s = 50)\n",
    "idx_1 = np.where(label[:, 0] == 1)\n",
    "p1 = plt.scatter(x[idx_1,1], x[idx_1,0], marker = 'x', color = 'm', label='1', s = 50)\n",
    "plt.title('POCKET')\n",
    "plt.xlabel('x')\n",
    "plt.ylabel('y')\n",
    "plt.xlim((-6,6))\n",
    "plt.ylim((-6,6))\n",
    "plt.legend()\n",
    "plt.grid(True)\n",
    "\n",
    "k = -pocket[1,:] / pocket[0,:]\n",
    "line_x = np.linspace(-5,5,50) \n",
    "line_y = k*line_x\n",
    "plt.plot(line_x,line_y)\n",
    "plt.show()"
   ]
  },
  {
   "cell_type": "markdown",
   "metadata": {
    "slideshow": {
     "slide_type": "subslide"
    }
   },
   "source": [
    "![](assignment/perception/pla.gif)\n"
   ]
  },
  {
   "cell_type": "markdown",
   "metadata": {
    "slideshow": {
     "slide_type": "subslide"
    }
   },
   "source": [
    "![](assignment/perception/pla_err.gif)"
   ]
  },
  {
   "cell_type": "markdown",
   "metadata": {
    "slideshow": {
     "slide_type": "subslide"
    }
   },
   "source": [
    "![](assignment/perception/pocket.gif)"
   ]
  },
  {
   "cell_type": "markdown",
   "metadata": {
    "slideshow": {
     "slide_type": "slide"
    }
   },
   "source": [
    "#  <center> SVM  (Support Vector Machine) </center>\n",
    "****\n",
    "\n",
    "**任务** : 对线性/非线性可分不同类别的点进行二分类\n",
    "****\n",
    "**类型** : 监督学习\n",
    "\n",
    "**模型** : $f(x)=sign(wx+b)$\n",
    "\n",
    "**评价方法** : $\\mathop {\\min }\\limits_{w,b} (\\frac{1}{2}||w|{|^2}) + C\\sum\\limits_{i = 1}^m {\\max (0,1 - {y_i}({w^T}{x_i}{\\rm{ + }}b))}$    \n",
    ">*s.t.* ${y_i}(w{x_{_i}} + b) - 1 \\ge 0,i = 1,2,...,N$\n",
    "\n",
    "**优化方法** : 核技巧/SMO\n",
    "![](svm.jpg)"
   ]
  },
  {
   "cell_type": "markdown",
   "metadata": {
    "slideshow": {
     "slide_type": "subslide"
    }
   },
   "source": [
    "#  <center> 核技巧 </center>\n",
    "\n",
    "__核函数是二元函数，输入是变换之前的两个向量，其输出与两个向量变换之后的内积相等. $k({x_1},{x_2}) = f(x_1^T{x_2})$ __\n",
    "****\n",
    "- 定义直线 $y(x) = {w^T}x + b$\n",
    "- 任意点${x_0}$到直线的距离为$\\frac{1}{{||w||}}({w^T}{x_0} + b)$\n",
    "- 求在误分类最少的情况下的最大间距: $\\arg \\mathop {\\max }\\limits_{w,b} \\{ \\frac{1}{{||w||}}\\mathop {\\min }\\limits_n [{y_i}({w^T}{x_i} + b)]\\} $\n",
    "- 最大间距对偶形式：$\\arg \\mathop {\\max }\\limits_\\alpha  \\sum\\limits_{i = 1}^N {{\\alpha _i} - \\frac{1}{2}\\sum\\limits_{i = 1}^N {\\sum\\limits_{j = 1}^N {{y_i}{y_j}} } } {\\alpha _i}{\\alpha _j}\\langle {x_i},{x_{_j}}\\rangle$\n",
    "![](svm_kernel.jpg)\n",
    "![](核函数.png)"
   ]
  },
  {
   "cell_type": "code",
   "execution_count": 5,
   "metadata": {
    "slideshow": {
     "slide_type": "subslide"
    }
   },
   "outputs": [
    {
     "name": "stdout",
     "output_type": "stream",
     "text": [
      "SVC(C=1000.0, cache_size=200, class_weight=None, coef0=0.0,\n",
      "  decision_function_shape='ovr', degree=3, gamma=0.1, kernel='rbf',\n",
      "  max_iter=-1, probability=False, random_state=None, shrinking=True,\n",
      "  tol=0.001, verbose=False)\n",
      "SVC(C=1000.0, cache_size=200, class_weight=None, coef0=0.0,\n",
      "  decision_function_shape='ovr', degree=2, gamma='auto', kernel='poly',\n",
      "  max_iter=-1, probability=False, random_state=None, shrinking=True,\n",
      "  tol=0.001, verbose=False)\n"
     ]
    }
   ],
   "source": [
    "import numpy as np\n",
    "import matplotlib.pyplot as plt\n",
    "import matplotlib.patches as mpatches\n",
    "from matplotlib import style\n",
    "style.use(\"ggplot\")\n",
    "from sklearn import svm\n",
    "from sklearn.datasets.samples_generator import make_blobs\n",
    "\n",
    "## 测试数据生成\n",
    "_x = np.random.randint(-10, 10, (400, 2))\n",
    "_ = np.linalg.norm(_x, axis=1)\n",
    "circle_in = _x[_<5]\n",
    "circle_out = _x[_>8]\n",
    "x = np.vstack((circle_in, circle_out))\n",
    "y = np.zeros(x.shape[0])\n",
    "y[0:circle_in.shape[0]] = 1\n",
    "\n",
    "## 运行SVC核\n",
    "svc_rbf = svm.SVC(kernel='rbf', C=1e3, gamma=0.1)\n",
    "svc_poly = svm.SVC(kernel='poly', C=1e3, degree=2)\n",
    "print(svc_rbf)\n",
    "print(svc_poly)"
   ]
  },
  {
   "cell_type": "markdown",
   "metadata": {
    "collapsed": true,
    "slideshow": {
     "slide_type": "subslide"
    }
   },
   "source": [
    "![](assignment\\svm\\svc_lr.png)"
   ]
  },
  {
   "cell_type": "markdown",
   "metadata": {
    "slideshow": {
     "slide_type": "subslide"
    }
   },
   "source": [
    "![](assignment\\svm\\svc_pol.png)"
   ]
  },
  {
   "cell_type": "markdown",
   "metadata": {
    "slideshow": {
     "slide_type": "slide"
    }
   },
   "source": [
    "#  <center> LR  (Logisitic Regeression) </center>\n",
    "****\n",
    "\n",
    "**任务** : 对线性/非线性可分不同类别的点进行多分类\n",
    "****\n",
    "**类型** : 监督学习\n",
    "\n",
    "**模型** : 3层fc nn, output layer(softmax) : ${y_i} = \\frac{{{e^{w{x_n} + b}}}}{{\\sum\\limits_{i = 1}^C {{e^{w{x_i} + b}}} }}$\n",
    "\n",
    "**评价方法** :  $- \\sum\\limits_{i = 1}^N {{y_i}\\log \\frac{{{e^{w{x_i} + b}}}}{{\\sum\\limits_{j = 1}^C {{e^{w{x_j} + b}}} }}}$\n",
    "\n",
    "**优化方法** : Gradient Descent/SGD/ADAM/Adagrad/RMSprop\n",
    "\n",
    "![](softmax.png)"
   ]
  },
  {
   "cell_type": "markdown",
   "metadata": {
    "slideshow": {
     "slide_type": "subslide"
    }
   },
   "source": [
    "![](bp.png)"
   ]
  },
  {
   "cell_type": "markdown",
   "metadata": {
    "slideshow": {
     "slide_type": "subslide"
    }
   },
   "source": [
    "![](node.png)"
   ]
  },
  {
   "cell_type": "markdown",
   "metadata": {
    "slideshow": {
     "slide_type": "subslide"
    }
   },
   "source": [
    "![](multi-node.png)"
   ]
  },
  {
   "cell_type": "markdown",
   "metadata": {
    "slideshow": {
     "slide_type": "subslide"
    }
   },
   "source": [
    "![](active_function.png)"
   ]
  },
  {
   "cell_type": "markdown",
   "metadata": {
    "slideshow": {
     "slide_type": "subslide"
    }
   },
   "source": [
    "![](activation.png)"
   ]
  },
  {
   "cell_type": "markdown",
   "metadata": {
    "slideshow": {
     "slide_type": "subslide"
    }
   },
   "source": [
    "![](loss.png)"
   ]
  },
  {
   "cell_type": "markdown",
   "metadata": {
    "slideshow": {
     "slide_type": "subslide"
    }
   },
   "source": [
    "#  <center> Gradient Descent </center>\n",
    "![](gradient_descent.png)"
   ]
  },
  {
   "cell_type": "markdown",
   "metadata": {
    "slideshow": {
     "slide_type": "subslide"
    }
   },
   "source": [
    "# <center> ${\\theta _{\\rm{j}}} = {\\theta _j} - \\alpha \\frac{\\partial }{{\\partial {\\theta _j}}}J(\\theta )$ </center>\n",
    "![](_gradient_descent.png)"
   ]
  },
  {
   "cell_type": "markdown",
   "metadata": {
    "slideshow": {
     "slide_type": "subslide"
    }
   },
   "source": [
    "#  <center> Backpropagation </center>\n",
    "![](backprop.png)"
   ]
  },
  {
   "cell_type": "markdown",
   "metadata": {
    "slideshow": {
     "slide_type": "subslide"
    }
   },
   "source": [
    "![](sigmoid_backprop.png)"
   ]
  },
  {
   "cell_type": "markdown",
   "metadata": {
    "slideshow": {
     "slide_type": "subslide"
    }
   },
   "source": [
    "#  <center> Gradient Descent各算法对比 </center>\n",
    "https://zhuanlan.zhihu.com/p/32230623\n",
    "\n",
    "![](_adag.gif)"
   ]
  },
  {
   "cell_type": "code",
   "execution_count": 1,
   "metadata": {
    "slideshow": {
     "slide_type": "subslide"
    }
   },
   "outputs": [
    {
     "name": "stderr",
     "output_type": "stream",
     "text": [
      "D:\\cloud\\anaconda\\lib\\site-packages\\h5py\\__init__.py:34: FutureWarning: Conversion of the second argument of issubdtype from `float` to `np.floating` is deprecated. In future, it will be treated as `np.float64 == np.dtype(float).type`.\n",
      "  from ._conv import register_converters as _register_converters\n"
     ]
    }
   ],
   "source": [
    "import numpy as np\n",
    "import tensorflow as tf\n",
    "import matplotlib.pyplot as plt\n",
    "from sklearn.datasets.samples_generator import make_blobs\n",
    "import time\n",
    "import os\n",
    "os.environ['TF_CPP_MIN_LOG_LEVEL']='2'\n",
    "\n",
    "DIMENSION = 2\n",
    "KNUM = 4\n",
    "SAMPLE_CNT = 240\n",
    "\n",
    "def init_variable(name, shape):\n",
    "    return(tf.get_variable(name, shape=shape, initializer=tf.contrib.layers.xavier_initializer()))\n",
    "        \n",
    "# 测试数据生成\n",
    "x_data, y_data = make_blobs(n_samples=SAMPLE_CNT, n_features=DIMENSION, centers=KNUM, center_box=(-20, 20), cluster_std=1.5)\n",
    "x = x_data.tolist()\n",
    "label=np.zeros((SAMPLE_CNT, KNUM))\n",
    "\n",
    "label[y_data==0] = [0,0,0,1]\n",
    "label[y_data==1] = [0,0,1,0]\n",
    "label[y_data==2] = [0,1,0,0]\n",
    "label[y_data==3] = [1,0,0,0]\n",
    "\n",
    "y = label.tolist()\n",
    "keep_prob = tf.placeholder(tf.float32)\n",
    "prediction_value = y.copy()\n",
    "\n",
    "# 生成学习网络\n",
    "# layer0: input\n",
    "xs = tf.placeholder(\"float\", [None, 2])\n",
    "ys = tf.placeholder(\"float\", [None, 4])\n",
    "keep_prob = tf.placeholder(tf.float32)\n",
    " \n",
    "# layer1:\n",
    "W1 = init_variable('W1', [2,20])\n",
    "bias1 = init_variable('b1', [1,20])\n",
    "o1 = tf.nn.relu(tf.matmul(xs, W1) + bias1)\n",
    "o1_drop = tf.nn.dropout(o1, keep_prob)\n",
    "\n",
    "# layer2:\n",
    "W2 = init_variable('W2', [20,20])\n",
    "bias2 = init_variable('b2', [1,20])\n",
    "o2 = tf.nn.relu(tf.matmul(o1_drop, W2) + bias2)\n",
    "o2_drop = tf.nn.dropout(o2, keep_prob)\n",
    "\n",
    "# layer3: output\n",
    "W3 = init_variable('W3', [20,4])\n",
    "bias3 = init_variable('b3', [1,4])\n",
    "#predict = tf.nn.softmax(tf.matmul(o2_drop, W3) + bias3)\n",
    "o3 = tf.matmul(o2_drop, W3) + bias3\n",
    "predict = tf.nn.softmax(o3)\n",
    "\n"
   ]
  },
  {
   "cell_type": "code",
   "execution_count": 2,
   "metadata": {
    "slideshow": {
     "slide_type": "subslide"
    }
   },
   "outputs": [
    {
     "name": "stdout",
     "output_type": "stream",
     "text": [
      "WARNING:tensorflow:From <ipython-input-2-cd5c0946c093>:2: softmax_cross_entropy_with_logits (from tensorflow.python.ops.nn_ops) is deprecated and will be removed in a future version.\n",
      "Instructions for updating:\n",
      "\n",
      "Future major versions of TensorFlow will allow gradients to flow\n",
      "into the labels input on backprop by default.\n",
      "\n",
      "See tf.nn.softmax_cross_entropy_with_logits_v2.\n",
      "\n",
      "2.0771701\n",
      "1.4298545\n",
      "1.2080476\n",
      "1.062615\n",
      "0.9569904\n",
      "0.8710387\n",
      "0.8117963\n",
      "0.7671517\n",
      "0.7361572\n",
      "0.71022105\n",
      "0.6842088\n",
      "0.6632282\n",
      "0.6432349\n",
      "0.63005894\n",
      "0.6273728\n",
      "0.6227281\n",
      "0.6168578\n",
      "0.61016667\n",
      "0.60824126\n",
      "0.60349876\n"
     ]
    }
   ],
   "source": [
    "# loss  sum( y*log(predict) )\n",
    "loss = tf.reduce_mean(tf.nn.softmax_cross_entropy_with_logits(logits=o3, labels=ys))\n",
    "#loss = tf.reduce_mean(-tf.reduce_sum(ys*tf.log(predict), reduction_indices=[1]))\n",
    "\n",
    "# train method\n",
    "#train = tf.train.GradientDescentOptimizer(0.1).minimize(loss)\n",
    "train = tf.train.AdamOptimizer(1e-3).minimize(loss)\n",
    "\n",
    "#init all variables, it will be activated by use sess.run(init)\n",
    "init = tf.global_variables_initializer()\n",
    "\n",
    "with tf.Session() as sess:\n",
    "    sess.run(init)\n",
    "    for i in range(200):\n",
    "        sess.run(train, feed_dict={xs:x, ys:y, keep_prob: 0.5})\n",
    "        if i % 10 == 0:\n",
    "            prediction_value = sess.run(predict, feed_dict={xs:x, keep_prob: 1})\n",
    "            print(sess.run(loss, feed_dict={xs:x, ys:y, keep_prob: 1}))\n"
   ]
  },
  {
   "cell_type": "markdown",
   "metadata": {
    "slideshow": {
     "slide_type": "subslide"
    }
   },
   "source": [
    "![](assignment\\lr\\tf_mul_lc.gif)"
   ]
  },
  {
   "cell_type": "markdown",
   "metadata": {
    "slideshow": {
     "slide_type": "slide"
    }
   },
   "source": [
    "#  <center> LR  (Linear Regeression) </center>\n",
    "****\n",
    "\n",
    "**任务** : 对一组数据进行曲线拟合\n",
    "****\n",
    "**类型** : 监督学习\n",
    "\n",
    "**模型** : 2层fc nn, output layer : ${y_i} = w{x_i} + b$\n",
    "\n",
    "**评价方法** :  $\\sum\\limits_{i = 1}^N {{{\\left( {{{\\rm{y}}_i} - (w{x_i} + b)} \\right)}^2}}$\n",
    "\n",
    "**优化方法** : Gradient Descent/SGD/ADAM/Adagrad/RMSprop"
   ]
  },
  {
   "cell_type": "code",
   "execution_count": 6,
   "metadata": {
    "slideshow": {
     "slide_type": "subslide"
    }
   },
   "outputs": [
    {
     "name": "stdout",
     "output_type": "stream",
     "text": [
      "0.21007633\n",
      "0.009326225\n",
      "0.0065052332\n",
      "0.0041997177\n",
      "0.0037967209\n",
      "0.003648324\n",
      "0.0035490533\n",
      "0.0034687535\n",
      "0.003410836\n",
      "0.0033446297\n"
     ]
    }
   ],
   "source": [
    "import numpy as np\n",
    "import tensorflow as tf\n",
    "import matplotlib.pyplot as plt\n",
    "import time\n",
    "import os\n",
    "os.environ['TF_CPP_MIN_LOG_LEVEL']='2'\n",
    "\n",
    "# 测试数据生成\n",
    "x_data = np.linspace(-1, 1, 300)[:, np.newaxis]\n",
    "noise = np.random.normal(0, 0.05, x_data.shape)\n",
    "y_data = np.square(x_data) - 0.5 + noise\n",
    "\n",
    "# 生成学习网络\n",
    "# layer0: input\n",
    "xs = tf.placeholder(tf.float32, [None, 1])\n",
    "ys = tf.placeholder(tf.float32, [None, 1])\n",
    "\n",
    "# layer1:\n",
    "W1 = tf.Variable(tf.random_normal([1,10]))\n",
    "bias1 = tf.Variable(tf.zeros([1, 10]) + 0.1)\n",
    "o1 = tf.nn.relu(tf.matmul(xs, W1) + bias1)\n",
    "\n",
    "# layer2: output\n",
    "W2 = tf.Variable(tf.random_normal([10,1]))\n",
    "bias2 = tf.Variable(0.1)\n",
    "predict = tf.matmul(o1, W2) + bias2\n",
    "\n",
    "# loss\n",
    "loss = tf.reduce_mean(tf.reduce_sum(tf.square(ys - predict),\n",
    "                     reduction_indices=[1]))\n",
    "\n",
    "# train method\n",
    "train = tf.train.GradientDescentOptimizer(0.1).minimize(loss)\n",
    "\n",
    "#init all variables, it will be activated by use sess.run(init)\n",
    "init = tf.global_variables_initializer()\n",
    "\n",
    "\n",
    "with tf.Session() as sess:\n",
    "    sess.run(init)\n",
    "    for i in range(1000):\n",
    "        sess.run(train, feed_dict={xs:x_data, ys:y_data})\n",
    "        if i % 100 == 0:\n",
    "            prediction_value = sess.run(predict, feed_dict={xs:x_data})\n",
    "            print(sess.run(loss, feed_dict={xs:x_data, ys:y_data}))\n"
   ]
  },
  {
   "cell_type": "markdown",
   "metadata": {
    "slideshow": {
     "slide_type": "subslide"
    }
   },
   "source": [
    "![](assignment\\lr\\tf_lr.gif)"
   ]
  },
  {
   "cell_type": "markdown",
   "metadata": {
    "slideshow": {
     "slide_type": "slide"
    }
   },
   "source": [
    "#  <center> KMEANS </center>\n",
    "****\n",
    "\n",
    "**任务** : 对未标记的点进行多分类\n",
    "****\n",
    "**类型** : 非监督学习\n",
    "\n",
    "**模型** : ${y_j} -  > \\min \\sum\\limits_{i = 1}^K {{{({x_j} - {k_i})}^2}}$\n",
    "\n",
    "**评价方法** : $\\sum\\limits_{i = 1}^K {\\sum\\limits_{j = 1}^N {{{({x_j} - {k_i})}^2}} }$\n",
    "\n",
    "**优化方法** : ${k_j} -  > \\frac{1}{N}\\sum\\limits_{i = 1}^N {{x_i} \\bullet ({y_i} =  = j)}$"
   ]
  },
  {
   "cell_type": "markdown",
   "metadata": {
    "slideshow": {
     "slide_type": "subslide"
    }
   },
   "source": [
    "----\n",
    "# <center>KMEANS Algorithm</center>\n",
    "----\n",
    "- **Input**: data ($T = \\{x_{0}, x_{1}, ..., x_{i}\\}$)\n",
    "- **Output**: $\\{y_{0}, y_{1}, ..., y_{i}\\}$\n",
    "    - init $\\{k_{0}, k_{1}, ..., k_{K}\\} \\rightarrow x_{random}$ (s.t. kmeans cluster cnt: K)\n",
    "    - update $y_{i} \\rightarrow minarg\\{(x_{i} - k)^2\\}$\n",
    "    - $loss_{min}, loss_{cur}, loss_{pre} \\leftarrow \\sum\\limits_i^K {\\sum\\limits_j^{y =  = i} {{{({x_j} - {k_i})}^2}} }$\n",
    "    - for $i= 0\\rightarrow1000$ do\n",
    "        - init $(w, b)\\rightarrow random$ and $j\\rightarrow 0$\n",
    "        - Save error label data to $T_{error} = \\{(x_{0}, y_{0}), (x_{1}, y_{1}), ..., (x_{err}, y_{err})\\}$\n",
    "        - while $j != len(T_{error})$ do\n",
    "            - $(\\bar{w}, \\bar{b}) \\rightarrow (w, b) + y_{j}x_{j}$\n",
    "            - $loss \\leftarrow sum(sign(\\bar{w}x + \\bar{b}) != y)$\n",
    "            - if $loss < loss_{min}$ then\n",
    "                - break\n",
    "            - end if\n",
    "            - $j=j+1$\n",
    "        - end while\n",
    "        - if $j != len(y_{err})$\n",
    "           - $(w_{best}, b_{best}) \\leftarrow (\\bar{w}, \\bar{b})$\n",
    "           - $loss_{min} \\leftarrow loss$\n",
    "        - end if\n",
    "        - j = 0\n",
    "    - end for\n",
    "----"
   ]
  },
  {
   "cell_type": "code",
   "execution_count": 12,
   "metadata": {
    "collapsed": true,
    "slideshow": {
     "slide_type": "subslide"
    }
   },
   "outputs": [],
   "source": [
    "import numpy as np\n",
    "import matplotlib\n",
    "import matplotlib.pyplot as plt\n",
    "from sklearn.datasets.samples_generator import make_blobs\n",
    "\n",
    "DIMENSION = 2\n",
    "KNUM = 4\n",
    "SAMPLE_CNT = 240\n",
    "train_step = 100\n",
    "\n",
    "\n",
    "def label_reset(x, kpoint):\n",
    "    _label = np.zeros((x.shape[0], 1))\n",
    "    for i in range(0, x.shape[0]):\n",
    "        _ = np.linalg.norm(x[i,:] - kpoint, axis=1)\n",
    "        _label[i] = np.argmin(_, 0)\n",
    " \n",
    "    return _label\n",
    "    \n",
    "\n",
    "def kpoint_reset(x, label):\n",
    "    _kpoint = np.zeros((KNUM, DIMENSION))\n",
    "    idx = 0\n",
    "    for i in range(0, KNUM):\n",
    "        idx = np.where(label[:, 0] == i)\n",
    "        _kpoint[i] = np.mean(x[idx], axis=0)\n",
    "    return _kpoint\n",
    "\n",
    "def cal_total(x, kpoint, label):\n",
    "    _sum = 0\n",
    "    for i in range(0, KNUM):\n",
    "        idx = np.where(label[:, 0] == i)\n",
    "        _linalg = np.linalg.norm(x[idx] - kpoint[i], axis=1)\n",
    "        _sum += np.sum(_linalg)\n",
    "    _sum /= SAMPLE_CNT\n",
    "    return _sum\n",
    "\n",
    "'''\n",
    "# x, y, label\n",
    "x = np.zeros((SAMPLE_CNT, DIMENSION))\n",
    "x = np.random.randint(-20, 20, (SAMPLE_CNT, DIMENSION))\n",
    "'''\n",
    "x, _ = make_blobs(n_samples=SAMPLE_CNT, n_features=DIMENSION, centers=KNUM, center_box=(-20, 20), cluster_std=1.5)\n",
    "\n",
    "label = np.zeros((SAMPLE_CNT, 1))\n",
    "\n",
    "#kmeans init\n",
    "kpoint = np.random.randint(-20, 20, (KNUM, DIMENSION))\n",
    "kpoint_min = kpoint.copy()\n",
    "\n",
    "label = label_reset(x, kpoint)\n",
    "label_min = label.copy()\n",
    "\n",
    "sum = cal_total(x, kpoint, label)\n",
    "sum_min = sum\n",
    "delta = sum"
   ]
  },
  {
   "cell_type": "code",
   "execution_count": 13,
   "metadata": {
    "slideshow": {
     "slide_type": "subslide"
    }
   },
   "outputs": [
    {
     "name": "stdout",
     "output_type": "stream",
     "text": [
      "Update sum_min: 1.833920\n",
      "Update sum_min: 1.833920\n"
     ]
    },
    {
     "name": "stderr",
     "output_type": "stream",
     "text": [
      "D:\\cloud\\anaconda\\lib\\site-packages\\numpy\\core\\fromnumeric.py:2957: RuntimeWarning: Mean of empty slice.\n",
      "  out=out, **kwargs)\n",
      "D:\\cloud\\anaconda\\lib\\site-packages\\numpy\\core\\_methods.py:73: RuntimeWarning: invalid value encountered in true_divide\n",
      "  ret, rcount, out=ret, casting='unsafe', subok=False)\n"
     ]
    },
    {
     "name": "stdout",
     "output_type": "stream",
     "text": [
      "1.8339197144463897\n"
     ]
    }
   ],
   "source": [
    "for i in range(train_step):\n",
    "    kpoint = np.random.randint(-20, 20, (KNUM, DIMENSION))\n",
    "    label = label_reset(x, kpoint)\n",
    "    sum = cal_total(x, kpoint, label)\n",
    "    delta = sum\n",
    "    while delta > 0.001:\n",
    "        kpoint = kpoint_reset(x, label)\n",
    "        label = label_reset(x, kpoint)\n",
    "        _sum = cal_total(x, kpoint, label)\n",
    "        delta = sum - _sum\n",
    "        sum = _sum\n",
    "        #print(\"sum: %f\" %sum)\n",
    "    if sum < sum_min:\n",
    "        print(\"Update sum_min: %f\" %sum)\n",
    "        sum_min = sum\n",
    "        kpoint_min = kpoint.copy()\n",
    "        label_min = label.copy()\n",
    "print(sum)"
   ]
  },
  {
   "cell_type": "markdown",
   "metadata": {
    "slideshow": {
     "slide_type": "subslide"
    }
   },
   "source": [
    "![](assignment\\kmeans\\kmeans.gif)"
   ]
  },
  {
   "cell_type": "markdown",
   "metadata": {
    "slideshow": {
     "slide_type": "slide"
    }
   },
   "source": [
    "#  <center> CNN </center>\n",
    "****\n",
    "\n",
    "**任务** : OCR end-to-end 识别\n",
    "****\n",
    "**类型** : 监督学习\n",
    "\n",
    "**模型** : 3层cnn + 3层relu + 2层fc, output layer(softmax) : ${y_i} = \\frac{{{e^{w{x_n} + b}}}}{{\\sum\\limits_{i = 1}^C {{e^{w{x_i} + b}}} }}$\n",
    "\n",
    "**评价方法** :  $- \\sum\\limits_{i = 1}^N {{y_i}\\log \\frac{{{e^{w{x_i} + b}}}}{{\\sum\\limits_{j = 1}^C {{e^{w{x_j} + b}}} }}}$\n",
    "\n",
    "**优化方法** : Gradient Descent/SGD/ADAM/Adagrad/RMSprop\n",
    "\n",
    "![](lenet.png)"
   ]
  },
  {
   "cell_type": "markdown",
   "metadata": {
    "slideshow": {
     "slide_type": "subslide"
    }
   },
   "source": [
    "#  <center> Convolution </center>\n",
    "翻转->移动->乘积->求和\n",
    "\n",
    "$f[x,y]*g[x,y] = \\sum\\limits_{{n_1} =  - \\infty }^\\infty  {\\sum\\limits_{{n_2} =  - \\infty }^\\infty  {f[{n_1},{n_2}]\\bullet g[x - {n_1},y - {n_2}]} }$\n",
    "![](conv.gif)"
   ]
  },
  {
   "cell_type": "code",
   "execution_count": 22,
   "metadata": {
    "slideshow": {
     "slide_type": "subslide"
    }
   },
   "outputs": [
    {
     "name": "stdout",
     "output_type": "stream",
     "text": [
      "[[255. 255. 255.]\n",
      " [  1.   1.   1.]\n",
      " [  1.   1.   1.]]\n",
      "-762.0\n"
     ]
    },
    {
     "data": {
      "image/png": "[encoded data removed]",
      "text/plain": [
       "<matplotlib.figure.Figure at 0x290a8154898>"
      ]
     },
     "metadata": {},
     "output_type": "display_data"
    }
   ],
   "source": [
    "import cv2\n",
    "import matplotlib.pyplot as plt\n",
    "import numpy as np\n",
    "import sys\n",
    "%matplotlib inline\n",
    "\n",
    "img = np.ones((100,100,3))\n",
    "img[0:20,:,1] = 255\n",
    "img[20:40,:,2] = 255\n",
    "img[40:100,:,0] = 255\n",
    "img[60:80,:,2] = 255\n",
    "img[80:100,:,1] = 255\n",
    "\n",
    "prewitt = np.array([[-1,-1,-1],\n",
    "          [0,0,0],\n",
    "          [1,1,1]])\n",
    "res = cv2.filter2D(img,-1,prewitt)\n",
    "regular = np.uint8(res)\n",
    "print(img[19:22,19:22,1])\n",
    "print(res[20,20,1])\n",
    "\n",
    "plt.figure()\n",
    "plt.subplot(1,2,1)\n",
    "plt.imshow(img)\n",
    "plt.subplot(1,2,2)\n",
    "plt.imshow(regular)\n",
    "plt.show()"
   ]
  },
  {
   "cell_type": "markdown",
   "metadata": {
    "slideshow": {
     "slide_type": "subslide"
    }
   },
   "source": [
    "# <center> LeNet、AlexNet、GoogLeNet、VGG、ResNet </center>\n",
    "\n",
    "![](net比较.png)"
   ]
  },
  {
   "cell_type": "markdown",
   "metadata": {
    "slideshow": {
     "slide_type": "subslide"
    }
   },
   "source": [
    "![](alex_net.png)"
   ]
  },
  {
   "cell_type": "markdown",
   "metadata": {
    "slideshow": {
     "slide_type": "subslide"
    }
   },
   "source": [
    "![](vgg16_para.png)"
   ]
  },
  {
   "cell_type": "markdown",
   "metadata": {
    "slideshow": {
     "slide_type": "subslide"
    }
   },
   "source": [
    "![](asamples.gif) ![](a384.gif)"
   ]
  },
  {
   "cell_type": "markdown",
   "metadata": {
    "slideshow": {
     "slide_type": "subslide"
    }
   },
   "source": [
    "# <center> Mask R-CNN Segment </center>   \n",
    "![](r-cnn-segment.png)"
   ]
  },
  {
   "cell_type": "markdown",
   "metadata": {
    "slideshow": {
     "slide_type": "subslide"
    }
   },
   "source": [
    "# <center> Mask R-CNN Post </center>\n",
    "![](r-cnn-pose.png)"
   ]
  },
  {
   "cell_type": "markdown",
   "metadata": {
    "slideshow": {
     "slide_type": "subslide"
    }
   },
   "source": [
    "# <center> DeepDream </center>\n",
    "![](deepdream.png)"
   ]
  },
  {
   "cell_type": "markdown",
   "metadata": {
    "slideshow": {
     "slide_type": "subslide"
    }
   },
   "source": [
    "# <center> Style-transfer </center>\n",
    "![](style-transfer.png)"
   ]
  },
  {
   "cell_type": "markdown",
   "metadata": {
    "slideshow": {
     "slide_type": "subslide"
    }
   },
   "source": [
    "# <center> Gramian 矩陣 </center>\n",
    "\n",
    "設 $A$ 為一個 $m\\times n$ 階實矩陣，$n$ 階方陣 $G=[g_{ij}]=A^TA$ 稱為 Gramian 或 Gram 矩陣，也有人稱之為交互乘積 (cross-product) 矩陣。考慮 $A$ 的行向量表達式 $A=\\begin{bmatrix}    \\mathbf{a}_1&\\mathbf{a}_2&\\cdots&\\mathbf{a}_n    \\end{bmatrix}$，$\\mathbf{a}_i\\in\\mathbb{R}^m$，則:\n",
    "    $$G=A^TA=\\begin{bmatrix}  \\mathbf{a}_1^T\\\\    \\mathbf{a}_2^T\\\\    \\vdots\\\\    \\mathbf{a}_n^T    \\end{bmatrix}\\begin{bmatrix}    \\mathbf{a}_1&\\mathbf{a}_2&\\cdots&\\mathbf{a}_n    \\end{bmatrix}=\\begin{bmatrix}    \\mathbf{a}_1^T\\mathbf{a}_1&\\mathbf{a}_1^T\\mathbf{a}_2&\\cdots&\\mathbf{a}_1^T\\mathbf{a}_n\\\\    \\mathbf{a}_2^T\\mathbf{a}_1&\\mathbf{a}_2^T\\mathbf{a}_2&\\cdots&\\mathbf{a}_2^T\\mathbf{a}_n\\\\    ~&~&~&~\\\\    \\mathbf{a}_n^T\\mathbf{a}_1&\\mathbf{a}_n^T\\mathbf{a}_2&\\cdots&\\mathbf{a}_n^T\\mathbf{a}_n    \\end{bmatrix}$$"
   ]
  },
  {
   "cell_type": "code",
   "execution_count": 23,
   "metadata": {
    "slideshow": {
     "slide_type": "subslide"
    }
   },
   "outputs": [
    {
     "name": "stdout",
     "output_type": "stream",
     "text": [
      "[[1 1]\n",
      " [3 4]]\n",
      "[[10 13]\n",
      " [13 17]]\n"
     ]
    }
   ],
   "source": [
    "import numpy as np\n",
    "\n",
    "A = np.random.randint(0,5, (2,2))\n",
    "\n",
    "B = np.dot(A.T, A)\n",
    "print(A)\n",
    "print(B)"
   ]
  },
  {
   "cell_type": "code",
   "execution_count": 2,
   "metadata": {
    "slideshow": {
     "slide_type": "subslide"
    }
   },
   "outputs": [
    {
     "ename": "IndentationError",
     "evalue": "unexpected indent (<ipython-input-2-e8223f7ccc10>, line 2)",
     "output_type": "error",
     "traceback": [
      "\u001b[1;36m  File \u001b[1;32m\"<ipython-input-2-e8223f7ccc10>\"\u001b[1;36m, line \u001b[1;32m2\u001b[0m\n\u001b[1;33m    L_content = 0\u001b[0m\n\u001b[1;37m    ^\u001b[0m\n\u001b[1;31mIndentationError\u001b[0m\u001b[1;31m:\u001b[0m unexpected indent\n"
     ]
    }
   ],
   "source": [
    "        parser.add_argument('--content_layers', nargs='+', type=str, default=['conv4_2'], help='VGG19 layers used for content loss')\n",
    "        parser.add_argument('--style_layers', nargs='+', type=str, default=['relu1_1', 'relu2_1', 'relu3_1', 'relu4_1', 'relu5_1'],\n",
    "                        help='VGG19 layers used for style loss')\n",
    "    \n",
    "        \"\"\"https://github.com/hwalsuklee/tensorflow-style-transfer/blob/master/style_transfer.py\"\"\"\n",
    "        \"\"\" compute loss \"\"\"\n",
    "        L_content = 0\n",
    "        L_style = 0\n",
    "        for id in self.Fs:\n",
    "            if id in self.CONTENT_LAYERS:\n",
    "                ## content loss ##\n",
    "\n",
    "                F = self.Fs[id]            # content feature of x\n",
    "                P = self.Ps[id]            # content feature of p\n",
    "\n",
    "                _, h, w, d = F.get_shape() # first return value is batch size (must be one)\n",
    "                N = h.value*w.value        # product of width and height\n",
    "                M = d.value                # number of filters\n",
    "\n",
    "                w = self.CONTENT_LAYERS[id]# weight for this layer\n",
    "\n",
    "                # You may choose different normalization constant\n",
    "                if self.content_loss_norm_type==1:\n",
    "                    L_content += w * tf.reduce_sum(tf.pow((F-P), 2)) / 2 # original paper\n",
    "                elif self.content_loss_norm_type == 2:\n",
    "                    L_content += w * tf.reduce_sum(tf.pow((F-P), 2)) / (N*M) #artistic style transfer for videos\n",
    "                elif self.content_loss_norm_type == 3: # this is from https://github.com/cysmith/neural-style-tf/blob/master/neural_style.py\n",
    "                    L_content += w * (1. / (2. * np.sqrt(M) * np.sqrt(N))) * tf.reduce_sum(tf.pow((F - P), 2))\n",
    "\n",
    "            elif id in self.STYLE_LAYERS:\n",
    "                ## style loss ##\n",
    "\n",
    "                F = self.Fs[id]\n",
    "\n",
    "                _, h, w, d = F.get_shape()  # first return value is batch size (must be one)\n",
    "                N = h.value * w.value       # product of width and height\n",
    "                M = d.value                 # number of filters\n",
    "\n",
    "                w = self.STYLE_LAYERS[id]   # weight for this layer\n",
    "\n",
    "                G = self._gram_matrix(F)    # style feature of x\n",
    "                A = self.As[id]             # style feature of a\n",
    "\n",
    "                L_style += w * (1. / (4 * N ** 2 * M ** 2)) * tf.reduce_sum(tf.pow((G-A), 2))"
   ]
  },
  {
   "cell_type": "markdown",
   "metadata": {
    "slideshow": {
     "slide_type": "subslide"
    }
   },
   "source": [
    "#  <center> CNN GAN </center>\n",
    "![](gan.png)"
   ]
  },
  {
   "cell_type": "markdown",
   "metadata": {
    "slideshow": {
     "slide_type": "subslide"
    }
   },
   "source": [
    "#  <center> GAN Training </center>\n",
    "![](gan-training.png)"
   ]
  },
  {
   "cell_type": "markdown",
   "metadata": {
    "slideshow": {
     "slide_type": "slide"
    }
   },
   "source": [
    "# <center> Sequential Model </center>\n",
    "![](sequence.png)"
   ]
  },
  {
   "cell_type": "markdown",
   "metadata": {
    "slideshow": {
     "slide_type": "subslide"
    }
   },
   "source": [
    "![](model_sequence.png)"
   ]
  },
  {
   "cell_type": "markdown",
   "metadata": {
    "slideshow": {
     "slide_type": "subslide"
    }
   },
   "source": [
    "# <center> Markov model </center>\n",
    "![](markov.png)"
   ]
  },
  {
   "cell_type": "markdown",
   "metadata": {
    "slideshow": {
     "slide_type": "subslide"
    }
   },
   "source": [
    "# <center> Markov model </center>\n",
    "![](weather.png)\n",
    "# <center> Hidden Markov model </center>\n",
    "![](weather1.png)"
   ]
  },
  {
   "cell_type": "markdown",
   "metadata": {
    "slideshow": {
     "slide_type": "subslide"
    }
   },
   "source": [
    "# <center> Hidden Markov model </center>\n",
    "![](HMM.png)\n",
    "# <center> HMM 输入法应用 </center>\n",
    "![](输入法.png)"
   ]
  },
  {
   "cell_type": "markdown",
   "metadata": {
    "slideshow": {
     "slide_type": "subslide"
    }
   },
   "source": [
    "#  <center> RNN </center>\n",
    "****\n",
    "\n",
    "- image captioning\n",
    "- sentiment classification\n",
    "- machine translation\n",
    "- video classification on frame level\n",
    "\n",
    "![](rnn-model.png)"
   ]
  },
  {
   "cell_type": "markdown",
   "metadata": {
    "slideshow": {
     "slide_type": "subslide"
    }
   },
   "source": [
    "# <center> RNN </center>\n",
    "\n",
    "## ${h_t} = \\tan ({W_{{\\rm{x}}h}}{x_{_t}} + {W_{hh}}{h_{t - 1}} + b)$\n",
    "\n",
    "![](rnn.png)"
   ]
  },
  {
   "cell_type": "markdown",
   "metadata": {
    "slideshow": {
     "slide_type": "subslide"
    }
   },
   "source": [
    "# <center> LSTM </center>\n",
    "Colah LSTM：http://colah.github.io/posts/2015-08-Understanding-LSTMs/\n",
    "\n",
    "Colah中文版: https://www.yunaitong.cn/understanding-lstm-networks.html\n",
    "![](lstm.png)"
   ]
  },
  {
   "cell_type": "markdown",
   "metadata": {
    "slideshow": {
     "slide_type": "subslide"
    }
   },
   "source": [
    "# <center> Image Captioning </center>\n",
    "![](rnn_straw.png)"
   ]
  },
  {
   "cell_type": "markdown",
   "metadata": {
    "slideshow": {
     "slide_type": "subslide"
    }
   },
   "source": [
    "![](image_caption.png)"
   ]
  },
  {
   "cell_type": "markdown",
   "metadata": {
    "slideshow": {
     "slide_type": "subslide"
    }
   },
   "source": [
    "![](rnn-code.png)"
   ]
  },
  {
   "cell_type": "markdown",
   "metadata": {
    "slideshow": {
     "slide_type": "subslide"
    }
   },
   "source": [
    "![](rnn-answer.png)"
   ]
  },
  {
   "cell_type": "markdown",
   "metadata": {
    "slideshow": {
     "slide_type": "subslide"
    }
   },
   "source": [
    "![](rnn-hard.png)"
   ]
  },
  {
   "cell_type": "markdown",
   "metadata": {
    "slideshow": {
     "slide_type": "slide"
    }
   },
   "source": [
    "#  <center> Reinforcement Learning </center>\n",
    "****\n",
    "\n",
    "![](reinforcement.png)"
   ]
  },
  {
   "cell_type": "markdown",
   "metadata": {
    "slideshow": {
     "slide_type": "subslide"
    }
   },
   "source": [
    "![](alphago.png)"
   ]
  },
  {
   "cell_type": "markdown",
   "metadata": {
    "slideshow": {
     "slide_type": "subslide"
    }
   },
   "source": [
    "# <center> Q-learning </center>\n",
    "\n",
    "Q-learning demo 英文版：http://mnemstudio.org/path-finding-q-learning-tutorial.htm\n",
    "\n",
    "Q-learning demo 中文版: http://www.cnblogs.com/stevenbush/p/3359603.html\n",
    "\n",
    "![](Q-learning.png)"
   ]
  },
  {
   "cell_type": "markdown",
   "metadata": {
    "slideshow": {
     "slide_type": "subslide"
    }
   },
   "source": [
    "![](door.png)"
   ]
  },
  {
   "cell_type": "markdown",
   "metadata": {
    "slideshow": {
     "slide_type": "subslide"
    }
   },
   "source": [
    "![](door-state.png)"
   ]
  },
  {
   "cell_type": "markdown",
   "metadata": {
    "slideshow": {
     "slide_type": "subslide"
    }
   },
   "source": [
    "![](R.png)\n",
    "\n",
    "$\\begin{array}{l}\n",
    "Q\\left( {1,5} \\right) = R\\left( {1,5} \\right) + 0.8 * \\max \\{ Q(5,1),Q(5,4),Q(5,5)\\} = 100 + 0.8*\\max \\{ 0,0,0\\}  = 100\n",
    "\\end{array}$\n",
    "![](Q.png)"
   ]
  },
  {
   "cell_type": "markdown",
   "metadata": {
    "slideshow": {
     "slide_type": "subslide"
    }
   },
   "source": [
    "![](Q-end.png)\n",
    "![](q-result.png)"
   ]
  },
  {
   "cell_type": "markdown",
   "metadata": {
    "slideshow": {
     "slide_type": "subslide"
    }
   },
   "source": [
    "![](Q-para.png)"
   ]
  },
  {
   "cell_type": "code",
   "execution_count": 2,
   "metadata": {
    "slideshow": {
     "slide_type": "subslide"
    }
   },
   "outputs": [
    {
     "data": {
      "text/html": [
       "<iframe width=\"720\" height=\"480\" src=\"Bidirectionally-Coordinated Nets (BiCNet) for Playing StarCraft Combats.mp4?rel=0&amp;controls=0&amp;showinfo=0\" frameborder=\"0\" allowfullscreen></iframe>"
      ],
      "text/plain": [
       "<IPython.core.display.HTML object>"
      ]
     },
     "execution_count": 2,
     "metadata": {},
     "output_type": "execute_result"
    }
   ],
   "source": [
    "\n",
    "from IPython.display import HTML\n",
    "\n",
    "# Youtube\n",
    "HTML('<iframe width=\"720\" height=\"480\" src=\"Bidirectionally-Coordinated Nets (BiCNet) for Playing StarCraft Combats.mp4?rel=0&amp;controls=0&amp;showinfo=0\" frameborder=\"0\" allowfullscreen></iframe>')\n"
   ]
  },
  {
   "cell_type": "markdown",
   "metadata": {
    "slideshow": {
     "slide_type": "subslide"
    }
   },
   "source": [
    "#  <center> Mastering StarCraft with AI </center>\n",
    "\n",
    "Researchers from Alibaba and University College London developed a deep learning-based system that learned how to execute a number of strategies for the popular real-time strategy game StarCraft.\n",
    "\n",
    "![](STARCRAFT.png)"
   ]
  },
  {
   "cell_type": "markdown",
   "metadata": {
    "collapsed": true,
    "slideshow": {
     "slide_type": "slide"
    }
   },
   "source": [
    "#  <center> ML问题点 </center>\n",
    "\n",
    "- size\n",
    "- time\n",
    "- energy"
   ]
  },
  {
   "cell_type": "markdown",
   "metadata": {
    "slideshow": {
     "slide_type": "subslide"
    }
   },
   "source": [
    "![](ml_problem1.png)"
   ]
  },
  {
   "cell_type": "markdown",
   "metadata": {
    "slideshow": {
     "slide_type": "subslide"
    }
   },
   "source": [
    "![](ml_problem2.png)"
   ]
  },
  {
   "cell_type": "markdown",
   "metadata": {
    "slideshow": {
     "slide_type": "subslide"
    }
   },
   "source": [
    "![](ml_problem3.png)"
   ]
  },
  {
   "cell_type": "code",
   "execution_count": null,
   "metadata": {
    "collapsed": true
   },
   "outputs": [],
   "source": []
  }
 ],
 "metadata": {
  "kernelspec": {
   "display_name": "Python 3",
   "language": "python",
   "name": "python3"
  },
  "language_info": {
   "codemirror_mode": {
    "name": "ipython",
    "version": 3
   },
   "file_extension": ".py",
   "mimetype": "text/x-python",
   "name": "python",
   "nbconvert_exporter": "python",
   "pygments_lexer": "ipython3",
   "version": "3.6.2"
  }
 },
 "nbformat": 4,
 "nbformat_minor": 2
}
