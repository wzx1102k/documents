{
 "cells": [
  {
   "cell_type": "markdown",
   "metadata": {
    "slideshow": {
     "slide_type": "slide"
    }
   },
   "source": [
    "# ML Base introduce\n",
    "- Perceptron\n",
    "- linear regression & logistic regression\n",
    "- CNN\n",
    "- RNN\n",
    "- DNN\n",
    "\n",
    "## by Cloud.yu 2018-2-9"
   ]
  },
  {
   "cell_type": "markdown",
   "metadata": {
    "slideshow": {
     "slide_type": "slide"
    }
   },
   "source": [
    "# Perceptron  (感知机)\n",
    "\n",
    ">感知机模型: $f(x)=sign(wx+b)$, 其中$w$叫做权重(weight)， $b$叫做偏置(bias)\n",
    "\n",
    ">线性几何平面: $wx+b=0$\n",
    "\n",
    "- PLA\n",
    "- Pocket\n"
   ]
  },
  {
   "cell_type": "markdown",
   "metadata": {
    "slideshow": {
     "slide_type": "subslide"
    }
   },
   "source": [
    "# PLA  (Percetron Learning Algorithm)\n",
    "----\n",
    "## PLA算法步骤\n",
    "----\n",
    "- **Input**: traing data ($T = \\{(x_{0}, y_{0}), (x_{1}, y_{1}), ..., (x_{i}, y_{i})\\}$) \n",
    "- **Output**: $(w, b)$\n",
    "    - Step1. init $(w, b)\\rightarrow(0,0)$\n",
    "    - Step2. init $i\\rightarrow 0$\n",
    "    - Step3. while $i != len(T)$ do\n",
    "        - Step4.get data $(x_{i}, y_{i})$ from $T$\n",
    "        - Step5. if $y_{i}(wx_{i}+b) <= 0$ then\n",
    "            - $(w, b) \\rightarrow (w, b) + y_{i}x_{i}$\n",
    "            - return to Step2.\n",
    "        - end if\n",
    "        - Step6. $i=i+1$\n",
    "    - end while\n",
    "----\n"
   ]
  },
  {
   "cell_type": "markdown",
   "metadata": {
    "slideshow": {
     "slide_type": "subslide"
    }
   },
   "source": [
    "\n",
    "![](pla.png)"
   ]
  },
  {
   "cell_type": "code",
   "execution_count": 1,
   "metadata": {
    "scrolled": true,
    "slideshow": {
     "slide_type": "subslide"
    }
   },
   "outputs": [
    {
     "data": {
      "image/png": "[encoded data removed]",
      "text/plain": [
       "<matplotlib.figure.Figure at 0x200931b5eb8>"
      ]
     },
     "metadata": {},
     "output_type": "display_data"
    }
   ],
   "source": [
    "import numpy as np\n",
    "import matplotlib\n",
    "import matplotlib.pyplot as plt \n",
    "\n",
    "x = np.random.randint(-5,5, (40,2))\n",
    "\n",
    "#  2y - 3x\n",
    "label = np.sign(np.dot(x,np.transpose([2, -4.3])))\n",
    "\n",
    "fig = plt.figure(1)\n",
    "idx_0 = np.where(label == -1)\n",
    "p0 = plt.scatter(x[idx_0,1], x[idx_0,0], marker = '+', color = 'c', label='-1', s = 50)\n",
    "idx_1 = np.where(label == 1)\n",
    "p1 = plt.scatter(x[idx_1,1], x[idx_1,0], marker = 'x', color = 'm', label='1', s = 50)\n",
    "plt.title('PLA')\n",
    "plt.xlabel('x')\n",
    "plt.ylabel('y')\n",
    "plt.xlim((-6,6))\n",
    "plt.ylim((-6,6))\n",
    "plt.legend()\n",
    "plt.grid(True)\n",
    "plt.show()"
   ]
  },
  {
   "cell_type": "markdown",
   "metadata": {},
   "source": [
    "$$ \\begin \n",
    "$$ x = y+2 $$\n"
   ]
  },
  {
   "cell_type": "code",
   "execution_count": 3,
   "metadata": {
    "scrolled": false,
    "slideshow": {
     "slide_type": "subslide"
    }
   },
   "outputs": [
    {
     "name": "stdout",
     "output_type": "stream",
     "text": [
      "[[ 4.]\n",
      " [-9.]]\n"
     ]
    }
   ],
   "source": [
    "cnt = 0\n",
    "pla = np.zeros((2,1))\n",
    "_update = 0\n",
    "\n",
    "while cnt<40:\n",
    "    _update = np.sign(np.dot(x[cnt,:], pla)) * label[cnt]\n",
    "    if _update <= 0:\n",
    "        _x = x[cnt, :]\n",
    "        _x.shape = (1,2)\n",
    "        _x = np.transpose(_x)\n",
    "        pla = pla + _x*label[cnt]\n",
    "        cnt = 0\n",
    "    else:\n",
    "        cnt = cnt+1\n",
    "        continue\n",
    "print(pla)\n",
    "\n",
    "\n",
    "\n",
    "    "
   ]
  },
  {
   "cell_type": "code",
   "execution_count": 5,
   "metadata": {
    "slideshow": {
     "slide_type": "subslide"
    }
   },
   "outputs": [
    {
     "data": {
      "image/png": "[encoded data removed]",
      "text/plain": [
       "<matplotlib.figure.Figure at 0x2009c1c9080>"
      ]
     },
     "metadata": {},
     "output_type": "display_data"
    }
   ],
   "source": [
    "fig = plt.figure(1)\n",
    "idx_0 = np.where(label == -1)\n",
    "p0 = plt.scatter(x[idx_0,1], x[idx_0,0], marker = '+', color = 'c', label='-1', s = 50)\n",
    "idx_1 = np.where(label == 1)\n",
    "p1 = plt.scatter(x[idx_1,1], x[idx_1,0], marker = 'x', color = 'm', label='1', s = 50)\n",
    "plt.title('PLA')\n",
    "plt.xlabel('x')\n",
    "plt.ylabel('y')\n",
    "plt.xlim((-6,6))\n",
    "plt.ylim((-6,6))\n",
    "plt.legend()\n",
    "plt.grid(True)\n",
    "\n",
    "k = -pla[1,:] / pla[0,:]\n",
    "line_x = np.linspace(-5,5,50) \n",
    "line_y = k*line_x\n",
    "plt.plot(line_x,line_y)\n",
    "plt.show()"
   ]
  },
  {
   "cell_type": "markdown",
   "metadata": {
    "slideshow": {
     "slide_type": "slide"
    }
   },
   "source": [
    "# Tanks all, for end!!"
   ]
  },
  {
   "cell_type": "code",
   "execution_count": 18,
   "metadata": {
    "scrolled": false
   },
   "outputs": [
    {
     "name": "stdout",
     "output_type": "stream",
     "text": [
      "[[-3]\n",
      " [-4]]\n",
      "[[ 4 -4]\n",
      " [-2 -3]\n",
      " [ 1  2]\n",
      " [-1 -1]\n",
      " [-5 -4]\n",
      " [ 3  3]\n",
      " [ 4  1]\n",
      " [ 2  4]\n",
      " [-3  2]\n",
      " [-4  0]\n",
      " [ 0 -2]\n",
      " [ 3 -1]\n",
      " [ 0 -5]\n",
      " [ 4  3]\n",
      " [ 1  4]\n",
      " [-5 -4]\n",
      " [ 4 -3]\n",
      " [-1  3]\n",
      " [ 2 -1]\n",
      " [ 3 -1]\n",
      " [-1  0]\n",
      " [-5  4]\n",
      " [-2 -1]\n",
      " [-1 -4]\n",
      " [ 2  0]\n",
      " [-1  4]\n",
      " [ 3  2]\n",
      " [-4 -4]\n",
      " [-4  0]\n",
      " [ 1 -5]\n",
      " [ 3 -5]\n",
      " [-5 -3]\n",
      " [ 1  3]\n",
      " [ 3  1]\n",
      " [ 4  4]\n",
      " [-3 -5]\n",
      " [-2 -1]\n",
      " [-2 -4]\n",
      " [-1 -3]\n",
      " [ 3  0]]\n"
     ]
    },
    {
     "ename": "ValueError",
     "evalue": "cannot reshape array of size 480 into shape (40,1)",
     "output_type": "error",
     "traceback": [
      "\u001b[1;31m---------------------------------------------------------------------------\u001b[0m",
      "\u001b[1;31mValueError\u001b[0m                                Traceback (most recent call last)",
      "\u001b[1;32m<ipython-input-18-1ecad6354b30>\u001b[0m in \u001b[0;36m<module>\u001b[1;34m()\u001b[0m\n\u001b[0;32m     16\u001b[0m     \u001b[1;32mwhile\u001b[0m \u001b[0mpre_loss\u001b[0m \u001b[1;33m<=\u001b[0m \u001b[0mcur_loss\u001b[0m \u001b[1;32mand\u001b[0m \u001b[0mcnt\u001b[0m \u001b[1;33m<\u001b[0m \u001b[0mlen\u001b[0m\u001b[1;33m(\u001b[0m\u001b[0midx\u001b[0m\u001b[1;33m)\u001b[0m\u001b[1;33m:\u001b[0m\u001b[1;33m\u001b[0m\u001b[0m\n\u001b[0;32m     17\u001b[0m         \u001b[0mpocket\u001b[0m \u001b[1;33m=\u001b[0m \u001b[0mpocket\u001b[0m \u001b[1;33m+\u001b[0m \u001b[0m_x\u001b[0m \u001b[1;33m*\u001b[0m\u001b[0mlabel\u001b[0m\u001b[1;33m[\u001b[0m\u001b[0midx\u001b[0m\u001b[1;33m[\u001b[0m\u001b[0mcnt\u001b[0m\u001b[1;33m]\u001b[0m\u001b[1;33m]\u001b[0m\u001b[1;33m\u001b[0m\u001b[0m\n\u001b[1;32m---> 18\u001b[1;33m         \u001b[0m_idx\u001b[0m\u001b[1;33m,\u001b[0m \u001b[0mcur_loss\u001b[0m \u001b[1;33m=\u001b[0m \u001b[0mcal_loss\u001b[0m\u001b[1;33m(\u001b[0m\u001b[0mpocket\u001b[0m\u001b[1;33m,\u001b[0m \u001b[0mx\u001b[0m\u001b[1;33m,\u001b[0m \u001b[0mlabel\u001b[0m\u001b[1;33m)\u001b[0m\u001b[1;33m\u001b[0m\u001b[0m\n\u001b[0m\u001b[0;32m     19\u001b[0m         \u001b[0mcnt\u001b[0m \u001b[1;33m=\u001b[0m \u001b[0mcnt\u001b[0m \u001b[1;33m+\u001b[0m \u001b[1;36m1\u001b[0m\u001b[1;33m\u001b[0m\u001b[0m\n\u001b[0;32m     20\u001b[0m \u001b[1;33m\u001b[0m\u001b[0m\n",
      "\u001b[1;32m<ipython-input-18-1ecad6354b30>\u001b[0m in \u001b[0;36mcal_loss\u001b[1;34m(_pocket, _x, _label)\u001b[0m\n\u001b[0;32m      4\u001b[0m \u001b[1;32mdef\u001b[0m \u001b[0mcal_loss\u001b[0m\u001b[1;33m(\u001b[0m\u001b[0m_pocket\u001b[0m\u001b[1;33m,\u001b[0m \u001b[0m_x\u001b[0m\u001b[1;33m,\u001b[0m \u001b[0m_label\u001b[0m\u001b[1;33m)\u001b[0m\u001b[1;33m:\u001b[0m\u001b[1;33m\u001b[0m\u001b[0m\n\u001b[0;32m      5\u001b[0m     \u001b[0m_\u001b[0m \u001b[1;33m=\u001b[0m \u001b[0mnp\u001b[0m\u001b[1;33m.\u001b[0m\u001b[0msign\u001b[0m\u001b[1;33m(\u001b[0m\u001b[0mnp\u001b[0m\u001b[1;33m.\u001b[0m\u001b[0mdot\u001b[0m\u001b[1;33m(\u001b[0m\u001b[0m_x\u001b[0m\u001b[1;33m,\u001b[0m \u001b[0m_pocket\u001b[0m\u001b[1;33m)\u001b[0m\u001b[1;33m)\u001b[0m\u001b[1;33m\u001b[0m\u001b[0m\n\u001b[1;32m----> 6\u001b[1;33m     \u001b[0m_\u001b[0m\u001b[1;33m.\u001b[0m\u001b[0mshape\u001b[0m \u001b[1;33m=\u001b[0m \u001b[1;33m(\u001b[0m\u001b[1;36m40\u001b[0m\u001b[1;33m,\u001b[0m\u001b[1;36m1\u001b[0m\u001b[1;33m)\u001b[0m\u001b[1;33m\u001b[0m\u001b[0m\n\u001b[0m\u001b[0;32m      7\u001b[0m     \u001b[0m_\u001b[0m \u001b[1;33m=\u001b[0m \u001b[0mnp\u001b[0m\u001b[1;33m.\u001b[0m\u001b[0mtranspose\u001b[0m\u001b[1;33m(\u001b[0m\u001b[0m_\u001b[0m\u001b[1;33m)\u001b[0m\u001b[1;33m\u001b[0m\u001b[0m\n\u001b[0;32m      8\u001b[0m     \u001b[0midx\u001b[0m \u001b[1;33m=\u001b[0m \u001b[0mnp\u001b[0m\u001b[1;33m.\u001b[0m\u001b[0mwhere\u001b[0m\u001b[1;33m(\u001b[0m\u001b[0m_\u001b[0m\u001b[1;33m!=\u001b[0m\u001b[0m_label\u001b[0m\u001b[1;33m)\u001b[0m\u001b[1;33m\u001b[0m\u001b[0m\n",
      "\u001b[1;31mValueError\u001b[0m: cannot reshape array of size 480 into shape (40,1)"
     ]
    }
   ],
   "source": [
    "pocket = np.random.randint(-4,4, (2,1))\n",
    "print(pocket)\n",
    "print(x)\n",
    "def cal_loss(_pocket, _x, _label):\n",
    "    _ = np.sign(np.dot(_x, _pocket))\n",
    "    _.shape = (40,1)\n",
    "    _ = np.transpose(_)\n",
    "    idx = np.where(_!=_label)\n",
    "    loss = np.sum(_!=_label)\n",
    "    return idx, loss\n",
    "\n",
    "for i in range(100):\n",
    "    cnt = 0\n",
    "    idx, pre_loss = cal_loss(pocket, x, label)\n",
    "    cur_loss = pre_loss\n",
    "    while pre_loss <= cur_loss and cnt < len(idx):\n",
    "        pocket = pocket + _x *label[idx[cnt]]\n",
    "        _idx, cur_loss = cal_loss(pocket, x, label)\n",
    "        cnt = cnt + 1\n",
    "    \n",
    "print(cal_loss(pocket, x, label))"
   ]
  },
  {
   "cell_type": "code",
   "execution_count": null,
   "metadata": {
    "collapsed": true
   },
   "outputs": [],
   "source": []
  }
 ],
 "metadata": {
  "celltoolbar": "Slideshow",
  "kernelspec": {
   "display_name": "Python 3",
   "language": "python",
   "name": "python3"
  },
  "language_info": {
   "codemirror_mode": {
    "name": "ipython",
    "version": 3
   },
   "file_extension": ".py",
   "mimetype": "text/x-python",
   "name": "python",
   "nbconvert_exporter": "python",
   "pygments_lexer": "ipython3",
   "version": "3.6.3"
  }
 },
 "nbformat": 4,
 "nbformat_minor": 2
}
