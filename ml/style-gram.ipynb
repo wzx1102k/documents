{
 "cells": [
  {
   "cell_type": "markdown",
   "metadata": {},
   "source": [
    "## Gramian 矩陣\n",
    "\n",
    "設 $A$ 為一個 $m\\times n$ 階實矩陣，$n$ 階方陣 $G=[g_{ij}]=A^TA$ 稱為 Gramian 或 Gram 矩陣，也有人稱之為交互乘積 (cross-product) 矩陣。考慮 $A$ 的行向量表達式 $A=\\begin{bmatrix}    \\mathbf{a}_1&\\mathbf{a}_2&\\cdots&\\mathbf{a}_n    \\end{bmatrix}$，$\\mathbf{a}_i\\in\\mathbb{R}^m$，則:\n",
    "    $$G=A^TA=\\begin{bmatrix}  \\mathbf{a}_1^T\\\\    \\mathbf{a}_2^T\\\\    \\vdots\\\\    \\mathbf{a}_n^T    \\end{bmatrix}\\begin{bmatrix}    \\mathbf{a}_1&\\mathbf{a}_2&\\cdots&\\mathbf{a}_n    \\end{bmatrix}=\\begin{bmatrix}    \\mathbf{a}_1^T\\mathbf{a}_1&\\mathbf{a}_1^T\\mathbf{a}_2&\\cdots&\\mathbf{a}_1^T\\mathbf{a}_n\\\\    \\mathbf{a}_2^T\\mathbf{a}_1&\\mathbf{a}_2^T\\mathbf{a}_2&\\cdots&\\mathbf{a}_2^T\\mathbf{a}_n\\\\    ~&~&~&~\\\\    \\mathbf{a}_n^T\\mathbf{a}_1&\\mathbf{a}_n^T\\mathbf{a}_2&\\cdots&\\mathbf{a}_n^T\\mathbf{a}_n    \\end{bmatrix}$$"
   ]
  },
  {
   "cell_type": "code",
   "execution_count": 4,
   "metadata": {},
   "outputs": [
    {
     "name": "stdout",
     "output_type": "stream",
     "text": [
      "[[1 2]\n",
      " [4 3]]\n",
      "[[ 5 10]\n",
      " [10 25]]\n"
     ]
    }
   ],
   "source": [
    "import numpy as np\n",
    "\n",
    "A = np.random.randint(0,5, (2,2))\n",
    "\n",
    "B = np.dot(A,A.T)\n",
    "print(A)\n",
    "print(B)"
   ]
  },
  {
   "cell_type": "code",
   "execution_count": null,
   "metadata": {
    "collapsed": true
   },
   "outputs": [],
   "source": []
  },
  {
   "cell_type": "code",
   "execution_count": null,
   "metadata": {
    "collapsed": true
   },
   "outputs": [],
   "source": []
  }
 ],
 "metadata": {
  "kernelspec": {
   "display_name": "Python 3",
   "language": "python",
   "name": "python3"
  },
  "language_info": {
   "codemirror_mode": {
    "name": "ipython",
    "version": 3
   },
   "file_extension": ".py",
   "mimetype": "text/x-python",
   "name": "python",
   "nbconvert_exporter": "python",
   "pygments_lexer": "ipython3",
   "version": "3.6.3"
  }
 },
 "nbformat": 4,
 "nbformat_minor": 2
}
