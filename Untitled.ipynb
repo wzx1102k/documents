{
 "cells": [
  {
   "cell_type": "markdown",
   "metadata": {},
   "source": [
    "##  Questions and answers?\n",
    "\n",
    "\n",
    "|**ID** |**Question** |**level** |\n",
    "| :--- | :-------------------------------------------------------------------- | :----------------------- |\n",
    "| 1. | 如何让图像的特征不依赖尺寸大小？ (eg. 不同场景使用同一模型来识别OCR) | $ \\star\\star\\star\\star $ |"
   ]
  },
  {
   "cell_type": "markdown",
   "metadata": {},
   "source": [
    "# linux总结\n",
    "linux相关总结\n",
    "******\n",
    "- apt lock\n",
    "\n",
    "```bash\n",
    "E: Could not get lock /var/lib/dpkg/lock - open (11 Resource temporarily unavailable)\n",
    "\n",
    "E: Unable to lock the administration directory (/var/lib/dpkg/) is another process using it?\n",
    "\n",
    "sudo rm /var/lib/apt/lists/lock\n",
    "\n",
    "sudo rm /var/cache/apt/archives/lock\n",
    "\n",
    "sudo rm /var/lib/dpkg/lock\n",
    "```\n",
    "- add"
   ]
  },
  {
   "cell_type": "code",
   "execution_count": null,
   "metadata": {
    "collapsed": true
   },
   "outputs": [],
   "source": []
  }
 ],
 "metadata": {
  "kernelspec": {
   "display_name": "Python 3",
   "language": "python",
   "name": "python3"
  },
  "language_info": {
   "codemirror_mode": {
    "name": "ipython",
    "version": 3
   },
   "file_extension": ".py",
   "mimetype": "text/x-python",
   "name": "python",
   "nbconvert_exporter": "python",
   "pygments_lexer": "ipython3",
   "version": "3.6.3"
  }
 },
 "nbformat": 4,
 "nbformat_minor": 2
}
